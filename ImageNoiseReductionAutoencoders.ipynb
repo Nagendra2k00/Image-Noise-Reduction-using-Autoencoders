{
  "cells": [
    {
      "cell_type": "markdown",
      "metadata": {
        "colab_type": "text",
        "id": "view-in-github"
      },
      "source": [
        "<a href=\"https://colab.research.google.com/github/srivastavamuskan/Image-Noise-Reduction-using-Autoencoders/blob/main/ImageNoiseReductionAutoencoders.ipynb\" target=\"_parent\"><img src=\"https://colab.research.google.com/assets/colab-badge.svg\" alt=\"Open In Colab\"/></a>"
      ]
    },
    {
      "cell_type": "code",
      "execution_count": 55,
      "metadata": {
        "id": "Wfe0T2KlpGV2"
      },
      "outputs": [],
      "source": [
        "import numpy as np\n",
        "from tensorflow.keras.datasets import mnist\n",
        "from matplotlib import pyplot as plt\n",
        "from tensorflow.keras.models import Sequential, Model, load_model\n",
        "from tensorflow.keras.layers import Dense, Input\n",
        "from tensorflow.keras.callbacks import EarlyStopping, LambdaCallback\n",
        "from tensorflow.keras.utils import to_categorical\n",
        "import streamlit as st\n",
        "\n",
        "%matplotlib inline"
      ]
    },
    {
      "cell_type": "code",
      "execution_count": 56,
      "metadata": {
        "colab": {
          "base_uri": "https://localhost:8080/"
        },
        "id": "xUcEoFPjqDOS",
        "outputId": "208916d8-3c47-428a-d4e9-c202857203b9"
      },
      "outputs": [],
      "source": [
        "(x_train, y_train), (x_test, y_test) = mnist.load_data()\n",
        "\n",
        "x_train = x_train.astype('float') / 255\n",
        "x_test = x_test.astype('float') / 255\n",
        "\n",
        "x_train = np.reshape(x_train, (60000, 784))\n",
        "x_test = np.reshape(x_test, (10000, 784))"
      ]
    },
    {
      "cell_type": "code",
      "execution_count": 57,
      "metadata": {
        "id": "YcTw6Nv8r-uv"
      },
      "outputs": [],
      "source": [
        "x_train_noisy = x_train + np.random.rand(60000, 784) * 0.9\n",
        "x_test_noisy = x_test + np.random.rand(10000, 784) * 0.9\n",
        "x_train_noisy = np.clip(x_train_noisy, 0., 1.)\n",
        "x_test_noisy = np.clip(x_test_noisy, 0., 1.)"
      ]
    },
    {
      "cell_type": "code",
      "execution_count": null,
      "metadata": {
        "colab": {
          "base_uri": "https://localhost:8080/",
          "height": 78
        },
        "id": "8ITj0NQWt_i1",
        "outputId": "e970485c-b72e-4205-9a30-4e5fc263292d"
      },
      "outputs": [],
      "source": [
        "def plot(x, p, labels=False):\n",
        "    plt.figure(figsize=(20, 2))\n",
        "    for i in range(10):\n",
        "        plt.subplot(1, 10, i + 1)\n",
        "        plt.imshow(x[i].reshape(28, 28), cmap='binary')\n",
        "        plt.xticks([])\n",
        "        plt.yticks([])\n",
        "        if labels:\n",
        "            plt.xlabel(np.argmax(p[i]))\n",
        "    plt.show()\n",
        "\n",
        "plot(x_train, None)"
      ]
    },
    {
      "cell_type": "code",
      "execution_count": null,
      "metadata": {
        "colab": {
          "base_uri": "https://localhost:8080/",
          "height": 78
        },
        "id": "7Jwy9ep3vGuN",
        "outputId": "14a76774-c879-4ced-bf86-35a4ad36a32b"
      },
      "outputs": [],
      "source": [
        "plot(x_train_noisy, None)\n"
      ]
    },
    {
      "cell_type": "code",
      "execution_count": null,
      "metadata": {
        "colab": {
          "base_uri": "https://localhost:8080/"
        },
        "id": "4bzalIrrvR1L",
        "outputId": "ea10cd88-a7f7-4bad-fee0-42e6f2128471"
      },
      "outputs": [],
      "source": [
        "classifier = Sequential([\n",
        "    Dense(256, activation='relu', input_shape=(784,)),\n",
        "    Dense(256, activation='relu'),\n",
        "    Dense(10, activation='softmax')\n",
        "])\n",
        "\n",
        "classifier.compile(\n",
        "    optimizer='adam',\n",
        "    loss='sparse_categorical_crossentropy',\n",
        "    metrics=['accuracy']\n",
        ")\n",
        "\n",
        "classifier.fit(x_train, y_train, batch_size=512, epochs=500)\n",
        "classifier.save('classifier_model.h5')  # Save classifier\n"
      ]
    },
    {
      "cell_type": "code",
      "execution_count": null,
      "metadata": {
        "colab": {
          "base_uri": "https://localhost:8080/"
        },
        "id": "3e5b_Brjw0Yv",
        "outputId": "57fafecf-4558-4367-c2c4-a4a74a2a40cb"
      },
      "outputs": [],
      "source": [
        "loss, acc = classifier.evaluate(x_test, y_test)\n",
        "print(acc)"
      ]
    },
    {
      "cell_type": "code",
      "execution_count": null,
      "metadata": {
        "colab": {
          "base_uri": "https://localhost:8080/"
        },
        "id": "K4XaGg7IxcEL",
        "outputId": "affcec9d-7e99-4be3-b698-1a461c62f32e"
      },
      "outputs": [],
      "source": [
        "loss, acc = classifier.evaluate(x_test_noisy, y_test)\n",
        "print(acc)"
      ]
    },
    {
      "cell_type": "code",
      "execution_count": 63,
      "metadata": {
        "id": "OKjEyS2HxrnD"
      },
      "outputs": [],
      "source": [
        "input_image = Input(shape=(784,))\n",
        "encoded = Dense(64, activation='relu')(input_image)\n",
        "decoded = Dense(784, activation='sigmoid')(encoded)\n",
        "\n",
        "autoencoder = Model(input_image, decoded)\n",
        "autoencoder.compile(loss='binary_crossentropy', optimizer='adam')\n"
      ]
    },
    {
      "cell_type": "code",
      "execution_count": null,
      "metadata": {
        "colab": {
          "base_uri": "https://localhost:8080/"
        },
        "id": "Q8VHuj9vzULp",
        "outputId": "d89bcda4-30b0-46e9-a805-bb75564db190"
      },
      "outputs": [],
      "source": [
        "autoencoder.fit(\n",
        "    x_train_noisy, x_train, epochs=100,\n",
        "    batch_size=512, validation_split=0.2, verbose=False,\n",
        "    callbacks=[\n",
        "        EarlyStopping(monitor='val_loss', patience=5),\n",
        "        LambdaCallback(on_epoch_end=lambda e, l: print('{:.3f}'.format(l['val_loss']), end='_'))\n",
        "    ]\n",
        ")\n",
        "\n",
        "print('_')\n",
        "print('Training is complete!')\n",
        "autoencoder.save('autoencoder_model.h5')  # Save autoencoder\n"
      ]
    },
    {
      "cell_type": "code",
      "execution_count": null,
      "metadata": {
        "colab": {
          "base_uri": "https://localhost:8080/"
        },
        "id": "z-fyPjOR15RB",
        "outputId": "39c09480-1c77-46f4-be4b-0827efced2b8"
      },
      "outputs": [],
      "source": [
        "predictions = autoencoder.predict(x_test_noisy)"
      ]
    },
    {
      "cell_type": "code",
      "execution_count": null,
      "metadata": {
        "colab": {
          "base_uri": "https://localhost:8080/",
          "height": 78
        },
        "id": "GS-6Rrmk2fSp",
        "outputId": "b411e356-503f-4d5a-b4dc-564c81c5a022"
      },
      "outputs": [],
      "source": [
        "plot(x_test_noisy, None)"
      ]
    },
    {
      "cell_type": "code",
      "execution_count": null,
      "metadata": {
        "colab": {
          "base_uri": "https://localhost:8080/",
          "height": 78
        },
        "id": "upqrqvJc2jc0",
        "outputId": "979d40e2-b62f-4892-917e-dced75e6640f"
      },
      "outputs": [],
      "source": [
        "plot(predictions, None)"
      ]
    },
    {
      "cell_type": "code",
      "execution_count": null,
      "metadata": {
        "colab": {
          "base_uri": "https://localhost:8080/"
        },
        "id": "o5Q3uniQ2qq8",
        "outputId": "8404b28a-1b72-4db3-d21d-3a67905998af"
      },
      "outputs": [],
      "source": [
        "loss, acc = classifier.evaluate(predictions, y_test)\n",
        "print(acc)"
      ]
    },
    {
      "cell_type": "code",
      "execution_count": null,
      "metadata": {
        "id": "6cTYr_yU25Mi"
      },
      "outputs": [],
      "source": [
        "input_image = Input(shape=(784,))\n",
        "x = autoencoder(input_image)\n",
        "y = classifier(x)\n",
        "\n",
        "denoise_and_classify = Model(input_image, y)\n",
        "denoise_and_classify.save('denoise_and_classify.h5')  # Save combined model\n"
      ]
    },
    {
      "cell_type": "code",
      "execution_count": null,
      "metadata": {
        "colab": {
          "base_uri": "https://localhost:8080/"
        },
        "id": "A87VaYN932_V",
        "outputId": "8a09f5fb-166f-4e2d-f198-19c2d8e6f454"
      },
      "outputs": [],
      "source": [
        "predictions = denoise_and_classify.predict(x_test_noisy)"
      ]
    },
    {
      "cell_type": "code",
      "execution_count": null,
      "metadata": {
        "colab": {
          "base_uri": "https://localhost:8080/",
          "height": 85
        },
        "id": "qies0ma03_HN",
        "outputId": "9671ade2-65f6-45fb-da19-7e43f875e01b"
      },
      "outputs": [],
      "source": [
        "plot(x_test_noisy, predictions, True)"
      ]
    },
    {
      "cell_type": "code",
      "execution_count": null,
      "metadata": {
        "colab": {
          "base_uri": "https://localhost:8080/",
          "height": 85
        },
        "id": "rTTp2_xR4EfU",
        "outputId": "a4c04eb2-a39e-474e-9d7d-1ba2b29faa8c"
      },
      "outputs": [],
      "source": [
        "plot(x_test, to_categorical(y_test), True)"
      ]
    },
    {
      "cell_type": "code",
      "execution_count": null,
      "metadata": {
        "id": "5cdPYQ3m4flc"
      },
      "outputs": [],
      "source": []
    }
  ],
  "metadata": {
    "accelerator": "GPU",
    "colab": {
      "authorship_tag": "ABX9TyOIxiJXEH9+Rs/knYlJW+nQ",
      "gpuType": "T4",
      "include_colab_link": true,
      "provenance": []
    },
    "kernelspec": {
      "display_name": "Python 3",
      "name": "python3"
    },
    "language_info": {
      "codemirror_mode": {
        "name": "ipython",
        "version": 3
      },
      "file_extension": ".py",
      "mimetype": "text/x-python",
      "name": "python",
      "nbconvert_exporter": "python",
      "pygments_lexer": "ipython3",
      "version": "3.12.4"
    }
  },
  "nbformat": 4,
  "nbformat_minor": 0
}
